{
 "cells": [
  {
   "cell_type": "code",
   "execution_count": null,
   "metadata": {},
   "outputs": [],
   "source": [
    "import json\n",
    "\n",
    "train_file_path = '/opt/ml/input/data/medical/ufo/train2.json'\n",
    "public_data_file_path = '/opt/ml/input/data/medical/ufo/public_data.json'\n",
    "output_file_path = '/opt/ml/input/data/medical/ufo/train2.json'\n",
    "\n",
    "# train.json 파일 열기\n",
    "with open(train_file_path, 'r', encoding='utf-8') as train_file:\n",
    "    train_data = json.load(train_file)\n",
    "\n",
    "# public_data.json 파일 열기\n",
    "with open(public_data_file_path, 'r', encoding='utf-8') as public_data_file:\n",
    "    public_data = json.load(public_data_file)\n",
    "\n",
    "# train_data의 'image' 항목에 public_data의 'image' 항목 추가\n",
    "train_data['images'].update(public_data['images'])\n",
    "\n",
    "# 결과를 output.json 파일로 저장\n",
    "with open(output_file_path, 'w', encoding='utf-8') as output_file:\n",
    "    json.dump(train_data, output_file, ensure_ascii=False, indent=4)\n",
    "\n",
    "print(\"합치기가 완료되었습니다.\")"
   ]
  }
 ],
 "metadata": {
  "language_info": {
   "name": "python"
  },
  "orig_nbformat": 4
 },
 "nbformat": 4,
 "nbformat_minor": 2
}
